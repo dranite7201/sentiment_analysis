{
 "cells": [
  {
   "cell_type": "code",
   "execution_count": 1,
   "metadata": {},
   "outputs": [
    {
     "name": "stderr",
     "output_type": "stream",
     "text": [
      "[nltk_data] Downloading package stopwords to\n",
      "[nltk_data]     C:\\Users\\chobi\\AppData\\Roaming\\nltk_data...\n",
      "[nltk_data]   Package stopwords is already up-to-date!\n"
     ]
    },
    {
     "data": {
      "text/plain": [
       "True"
      ]
     },
     "execution_count": 1,
     "metadata": {},
     "output_type": "execute_result"
    }
   ],
   "source": [
    "import nltk\n",
    "nltk.download('stopwords')"
   ]
  },
  {
   "cell_type": "code",
   "execution_count": 2,
   "metadata": {},
   "outputs": [],
   "source": [
    "import random\n",
    "from nltk.corpus import movie_reviews\n",
    "\n",
    "reviews = movie_reviews\n",
    "documents = [(list(reviews.words(fileid)),category) for category in reviews.categories() for fileid in reviews.fileids(category)]\n",
    "random.shuffle(documents)"
   ]
  },
  {
   "cell_type": "code",
   "execution_count": 3,
   "metadata": {},
   "outputs": [],
   "source": [
    "all_words = nltk.FreqDist(w.lower() for w in reviews.words())\n",
    "word_features = list(all_words)"
   ]
  },
  {
   "cell_type": "code",
   "execution_count": 4,
   "metadata": {},
   "outputs": [],
   "source": [
    "def document_features(document, word_features):\n",
    "  document_words = set(document)\n",
    "  features = {}\n",
    "  for word in word_features:\n",
    "    features['{}'.format(word)] = (word in document_words)\n",
    "  return features\n",
    "\n",
    "featuresets = [(document_features(d,word_features), c) for (d,c) in documents]"
   ]
  },
  {
   "cell_type": "code",
   "execution_count": 5,
   "metadata": {},
   "outputs": [
    {
     "name": "stdout",
     "output_type": "stream",
     "text": [
      "0.828\n"
     ]
    }
   ],
   "source": [
    "train_set, test_set = featuresets[:1500], featuresets[1500:]\n",
    "classifier = nltk.NaiveBayesClassifier.train(train_set)\n",
    "print(nltk.classify.accuracy(classifier, test_set))"
   ]
  },
  {
   "cell_type": "code",
   "execution_count": 6,
   "metadata": {},
   "outputs": [],
   "source": [
    "def word_feats(words):\n",
    "    return dict([(word, True) for word in words])"
   ]
  },
  {
   "cell_type": "code",
   "execution_count": 19,
   "metadata": {},
   "outputs": [
    {
     "name": "stdout",
     "output_type": "stream",
     "text": [
      "i don't like you-----> neg\n"
     ]
    }
   ],
   "source": [
    "neg = 0\n",
    "pos = 0\n",
    "sw = nltk.corpus.stopwords.words('english')\n",
    "sentence = \"i don't like you\"\n",
    "sentence = sentence.lower()\n",
    "sentences = sentence.split('.')   # these are actually list of sentences\n",
    "tmp = []\n",
    "for sent in sentences:\n",
    "    if sent != \"\":\n",
    "        pos=0\n",
    "        neg=0\n",
    "        words = [word for word in sent.split(\" \") if word not in sw]\n",
    "        for word in words:\n",
    "            tmp.append(word)\n",
    "            classResult = classifier.classify(word_feats(tmp))\n",
    "            if(classResult=='pos'):\n",
    "                pos+=1\n",
    "            else:\n",
    "                neg+=1\n",
    "        if (pos==neg):\n",
    "            print(sent + '----->' + ' neutral')\n",
    "        elif(pos>neg):\n",
    "            print(sent + '----->' + ' pos')\n",
    "        else:\n",
    "            print(sent + '----->' + ' neg')"
   ]
  },
  {
   "cell_type": "code",
   "execution_count": 14,
   "metadata": {},
   "outputs": [],
   "source": [
    "import pickle\n",
    "f = open('my_classifier1.pickle', 'wb')\n",
    "pickle.dump(classifier, f)\n",
    "f.close()"
   ]
  }
 ],
 "metadata": {
  "interpreter": {
   "hash": "234887c5c2e472bc05baa19be83a550a17774cc76a8884d98e98980fb4f10cf4"
  },
  "kernelspec": {
   "display_name": "Python 3.9.7 64-bit",
   "language": "python",
   "name": "python3"
  },
  "language_info": {
   "codemirror_mode": {
    "name": "ipython",
    "version": 3
   },
   "file_extension": ".py",
   "mimetype": "text/x-python",
   "name": "python",
   "nbconvert_exporter": "python",
   "pygments_lexer": "ipython3",
   "version": "3.9.7"
  },
  "orig_nbformat": 4
 },
 "nbformat": 4,
 "nbformat_minor": 2
}
